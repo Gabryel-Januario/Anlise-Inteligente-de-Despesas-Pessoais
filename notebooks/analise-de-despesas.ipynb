{
 "cells": [
  {
   "metadata": {},
   "cell_type": "markdown",
   "source": [
    "# 📊 Análise Inteligente de Despesas Pessoais\n",
    "\n",
    "Este notebook realiza uma análise exploratória e preditiva de dados de despesas pessoais.\n",
    "Usaremos:\n",
    "- Python (pandas, numpy, matplotlib, seaborn, scikit-learn)\n",
    "- Fonte de dados em Excel\n",
    "- Exportação para Power BI\n",
    "- Machine Learning para previsão de gastos\n",
    "\n",
    "O objetivo é entregar um fluxo de trabalho de ciência de dados que seja reproduzível e possa ser usado em projetos reais."
   ],
   "id": "c1d78244ef3fbb26"
  },
  {
   "metadata": {
    "ExecuteTime": {
     "end_time": "2025-07-03T21:48:01.279717Z",
     "start_time": "2025-07-03T21:48:01.190124Z"
    }
   },
   "cell_type": "code",
   "source": [
    "# Importação de bibliotecas principais\n",
    "import pandas as pd\n",
    "import numpy as np\n",
    "import matplotlib.pyplot as plt\n",
    "import seaborn as sns\n",
    "\n",
    "# Machine Learning\n",
    "\n",
    "\n",
    "# Configurações\n",
    "sns.set_theme(style='whitegrid')\n",
    "%matplotlib inline"
   ],
   "id": "ddcafea6a8e1e2d9",
   "outputs": [],
   "execution_count": 59
  },
  {
   "metadata": {},
   "cell_type": "markdown",
   "source": [
    "## 2️⃣ Carregamento dos dados\n",
    "\n",
    "Vamos carregar nosso dataset de despesas em formato Excel.\n"
   ],
   "id": "c66621bc2917d1ed"
  },
  {
   "metadata": {
    "ExecuteTime": {
     "end_time": "2025-07-03T21:48:01.593206Z",
     "start_time": "2025-07-03T21:48:01.339773Z"
    }
   },
   "cell_type": "code",
   "source": [
    "df = pd.read_excel(r'C:\\Users\\gabry\\Documents\\analise-de-despesas\\data\\despesas.xlsx')\n",
    "df.head()"
   ],
   "id": "6be88d477cb9d305",
   "outputs": [
    {
     "data": {
      "text/plain": [
       "        Data    Categoria             Descrição  Valor (R$)\n",
       "0 2024-01-05  Alimentação          Supermercado       180.5\n",
       "1 2024-01-08   Transporte  Uber para o trabalho        32.0\n",
       "2 2024-01-10        Lazer     Cinema com amigos        45.0\n",
       "3 2024-01-12        Saúde       Consulta médica       150.0\n",
       "4 2024-01-15     Educação          Curso online        90.0"
      ],
      "text/html": [
       "<div>\n",
       "<style scoped>\n",
       "    .dataframe tbody tr th:only-of-type {\n",
       "        vertical-align: middle;\n",
       "    }\n",
       "\n",
       "    .dataframe tbody tr th {\n",
       "        vertical-align: top;\n",
       "    }\n",
       "\n",
       "    .dataframe thead th {\n",
       "        text-align: right;\n",
       "    }\n",
       "</style>\n",
       "<table border=\"1\" class=\"dataframe\">\n",
       "  <thead>\n",
       "    <tr style=\"text-align: right;\">\n",
       "      <th></th>\n",
       "      <th>Data</th>\n",
       "      <th>Categoria</th>\n",
       "      <th>Descrição</th>\n",
       "      <th>Valor (R$)</th>\n",
       "    </tr>\n",
       "  </thead>\n",
       "  <tbody>\n",
       "    <tr>\n",
       "      <th>0</th>\n",
       "      <td>2024-01-05</td>\n",
       "      <td>Alimentação</td>\n",
       "      <td>Supermercado</td>\n",
       "      <td>180.5</td>\n",
       "    </tr>\n",
       "    <tr>\n",
       "      <th>1</th>\n",
       "      <td>2024-01-08</td>\n",
       "      <td>Transporte</td>\n",
       "      <td>Uber para o trabalho</td>\n",
       "      <td>32.0</td>\n",
       "    </tr>\n",
       "    <tr>\n",
       "      <th>2</th>\n",
       "      <td>2024-01-10</td>\n",
       "      <td>Lazer</td>\n",
       "      <td>Cinema com amigos</td>\n",
       "      <td>45.0</td>\n",
       "    </tr>\n",
       "    <tr>\n",
       "      <th>3</th>\n",
       "      <td>2024-01-12</td>\n",
       "      <td>Saúde</td>\n",
       "      <td>Consulta médica</td>\n",
       "      <td>150.0</td>\n",
       "    </tr>\n",
       "    <tr>\n",
       "      <th>4</th>\n",
       "      <td>2024-01-15</td>\n",
       "      <td>Educação</td>\n",
       "      <td>Curso online</td>\n",
       "      <td>90.0</td>\n",
       "    </tr>\n",
       "  </tbody>\n",
       "</table>\n",
       "</div>"
      ]
     },
     "execution_count": 60,
     "metadata": {},
     "output_type": "execute_result"
    }
   ],
   "execution_count": 60
  },
  {
   "metadata": {},
   "cell_type": "markdown",
   "source": "## 3️⃣ Entendimento inicial dos dados",
   "id": "a1fe01afac0a71af"
  },
  {
   "metadata": {
    "ExecuteTime": {
     "end_time": "2025-07-03T21:48:01.880314Z",
     "start_time": "2025-07-03T21:48:01.807172Z"
    }
   },
   "cell_type": "code",
   "source": "df.info()",
   "id": "1e1eaa1af37cbf36",
   "outputs": [
    {
     "name": "stdout",
     "output_type": "stream",
     "text": [
      "<class 'pandas.core.frame.DataFrame'>\n",
      "RangeIndex: 199 entries, 0 to 198\n",
      "Data columns (total 4 columns):\n",
      " #   Column      Non-Null Count  Dtype         \n",
      "---  ------      --------------  -----         \n",
      " 0   Data        199 non-null    datetime64[ns]\n",
      " 1   Categoria   199 non-null    object        \n",
      " 2   Descrição   199 non-null    object        \n",
      " 3   Valor (R$)  199 non-null    float64       \n",
      "dtypes: datetime64[ns](1), float64(1), object(2)\n",
      "memory usage: 6.3+ KB\n"
     ]
    }
   ],
   "execution_count": 61
  },
  {
   "metadata": {
    "ExecuteTime": {
     "end_time": "2025-07-03T21:48:02.291528Z",
     "start_time": "2025-07-03T21:48:02.239230Z"
    }
   },
   "cell_type": "code",
   "source": "df.describe()",
   "id": "c58fcc51adaa1398",
   "outputs": [
    {
     "data": {
      "text/plain": [
       "                                Data  Valor (R$)\n",
       "count                            199  199.000000\n",
       "mean   2024-06-21 12:47:02.110552832  160.631457\n",
       "min              2024-01-01 00:00:00   27.570000\n",
       "25%              2024-03-15 00:00:00   91.030000\n",
       "50%              2024-06-13 00:00:00  151.360000\n",
       "75%              2024-10-01 12:00:00  233.165000\n",
       "max              2024-12-25 00:00:00  296.760000\n",
       "std                              NaN   82.488366"
      ],
      "text/html": [
       "<div>\n",
       "<style scoped>\n",
       "    .dataframe tbody tr th:only-of-type {\n",
       "        vertical-align: middle;\n",
       "    }\n",
       "\n",
       "    .dataframe tbody tr th {\n",
       "        vertical-align: top;\n",
       "    }\n",
       "\n",
       "    .dataframe thead th {\n",
       "        text-align: right;\n",
       "    }\n",
       "</style>\n",
       "<table border=\"1\" class=\"dataframe\">\n",
       "  <thead>\n",
       "    <tr style=\"text-align: right;\">\n",
       "      <th></th>\n",
       "      <th>Data</th>\n",
       "      <th>Valor (R$)</th>\n",
       "    </tr>\n",
       "  </thead>\n",
       "  <tbody>\n",
       "    <tr>\n",
       "      <th>count</th>\n",
       "      <td>199</td>\n",
       "      <td>199.000000</td>\n",
       "    </tr>\n",
       "    <tr>\n",
       "      <th>mean</th>\n",
       "      <td>2024-06-21 12:47:02.110552832</td>\n",
       "      <td>160.631457</td>\n",
       "    </tr>\n",
       "    <tr>\n",
       "      <th>min</th>\n",
       "      <td>2024-01-01 00:00:00</td>\n",
       "      <td>27.570000</td>\n",
       "    </tr>\n",
       "    <tr>\n",
       "      <th>25%</th>\n",
       "      <td>2024-03-15 00:00:00</td>\n",
       "      <td>91.030000</td>\n",
       "    </tr>\n",
       "    <tr>\n",
       "      <th>50%</th>\n",
       "      <td>2024-06-13 00:00:00</td>\n",
       "      <td>151.360000</td>\n",
       "    </tr>\n",
       "    <tr>\n",
       "      <th>75%</th>\n",
       "      <td>2024-10-01 12:00:00</td>\n",
       "      <td>233.165000</td>\n",
       "    </tr>\n",
       "    <tr>\n",
       "      <th>max</th>\n",
       "      <td>2024-12-25 00:00:00</td>\n",
       "      <td>296.760000</td>\n",
       "    </tr>\n",
       "    <tr>\n",
       "      <th>std</th>\n",
       "      <td>NaN</td>\n",
       "      <td>82.488366</td>\n",
       "    </tr>\n",
       "  </tbody>\n",
       "</table>\n",
       "</div>"
      ]
     },
     "execution_count": 62,
     "metadata": {},
     "output_type": "execute_result"
    }
   ],
   "execution_count": 62
  },
  {
   "metadata": {
    "ExecuteTime": {
     "end_time": "2025-07-03T21:48:02.448969Z",
     "start_time": "2025-07-03T21:48:02.427261Z"
    }
   },
   "cell_type": "code",
   "source": "df['Categoria'].value_counts()",
   "id": "3fd4f58eeb01755c",
   "outputs": [
    {
     "data": {
      "text/plain": [
       "Categoria\n",
       "Educação        41\n",
       "Lazer           34\n",
       "Contas Fixas    34\n",
       "Saúde           33\n",
       "Alimentação     30\n",
       "Transporte      27\n",
       "Name: count, dtype: int64"
      ]
     },
     "execution_count": 63,
     "metadata": {},
     "output_type": "execute_result"
    }
   ],
   "execution_count": 63
  },
  {
   "metadata": {},
   "cell_type": "markdown",
   "source": "## 4️⃣ Limpeza de dados",
   "id": "d7f8e81661b8462c"
  },
  {
   "metadata": {
    "ExecuteTime": {
     "end_time": "2025-07-03T21:48:02.720913Z",
     "start_time": "2025-07-03T21:48:02.704336Z"
    }
   },
   "cell_type": "code",
   "source": [
    "df['Data'] = pd.to_datetime(df['Data'])\n",
    "df.isnull().sum()"
   ],
   "id": "4768294df9eb8c7e",
   "outputs": [
    {
     "data": {
      "text/plain": [
       "Data          0\n",
       "Categoria     0\n",
       "Descrição     0\n",
       "Valor (R$)    0\n",
       "dtype: int64"
      ]
     },
     "execution_count": 64,
     "metadata": {},
     "output_type": "execute_result"
    }
   ],
   "execution_count": 64
  },
  {
   "metadata": {},
   "cell_type": "markdown",
   "source": "## 5️⃣ Feature Engineering",
   "id": "3ecb1493adfcd361"
  },
  {
   "metadata": {
    "ExecuteTime": {
     "end_time": "2025-07-03T21:48:03.028449Z",
     "start_time": "2025-07-03T21:48:03.001784Z"
    }
   },
   "cell_type": "code",
   "source": [
    "df['Mes'] = df['Data'].dt.month\n",
    "df.head()"
   ],
   "id": "9fcde8e541455274",
   "outputs": [
    {
     "data": {
      "text/plain": [
       "        Data    Categoria             Descrição  Valor (R$)  Mes\n",
       "0 2024-01-05  Alimentação          Supermercado       180.5    1\n",
       "1 2024-01-08   Transporte  Uber para o trabalho        32.0    1\n",
       "2 2024-01-10        Lazer     Cinema com amigos        45.0    1\n",
       "3 2024-01-12        Saúde       Consulta médica       150.0    1\n",
       "4 2024-01-15     Educação          Curso online        90.0    1"
      ],
      "text/html": [
       "<div>\n",
       "<style scoped>\n",
       "    .dataframe tbody tr th:only-of-type {\n",
       "        vertical-align: middle;\n",
       "    }\n",
       "\n",
       "    .dataframe tbody tr th {\n",
       "        vertical-align: top;\n",
       "    }\n",
       "\n",
       "    .dataframe thead th {\n",
       "        text-align: right;\n",
       "    }\n",
       "</style>\n",
       "<table border=\"1\" class=\"dataframe\">\n",
       "  <thead>\n",
       "    <tr style=\"text-align: right;\">\n",
       "      <th></th>\n",
       "      <th>Data</th>\n",
       "      <th>Categoria</th>\n",
       "      <th>Descrição</th>\n",
       "      <th>Valor (R$)</th>\n",
       "      <th>Mes</th>\n",
       "    </tr>\n",
       "  </thead>\n",
       "  <tbody>\n",
       "    <tr>\n",
       "      <th>0</th>\n",
       "      <td>2024-01-05</td>\n",
       "      <td>Alimentação</td>\n",
       "      <td>Supermercado</td>\n",
       "      <td>180.5</td>\n",
       "      <td>1</td>\n",
       "    </tr>\n",
       "    <tr>\n",
       "      <th>1</th>\n",
       "      <td>2024-01-08</td>\n",
       "      <td>Transporte</td>\n",
       "      <td>Uber para o trabalho</td>\n",
       "      <td>32.0</td>\n",
       "      <td>1</td>\n",
       "    </tr>\n",
       "    <tr>\n",
       "      <th>2</th>\n",
       "      <td>2024-01-10</td>\n",
       "      <td>Lazer</td>\n",
       "      <td>Cinema com amigos</td>\n",
       "      <td>45.0</td>\n",
       "      <td>1</td>\n",
       "    </tr>\n",
       "    <tr>\n",
       "      <th>3</th>\n",
       "      <td>2024-01-12</td>\n",
       "      <td>Saúde</td>\n",
       "      <td>Consulta médica</td>\n",
       "      <td>150.0</td>\n",
       "      <td>1</td>\n",
       "    </tr>\n",
       "    <tr>\n",
       "      <th>4</th>\n",
       "      <td>2024-01-15</td>\n",
       "      <td>Educação</td>\n",
       "      <td>Curso online</td>\n",
       "      <td>90.0</td>\n",
       "      <td>1</td>\n",
       "    </tr>\n",
       "  </tbody>\n",
       "</table>\n",
       "</div>"
      ]
     },
     "execution_count": 65,
     "metadata": {},
     "output_type": "execute_result"
    }
   ],
   "execution_count": 65
  },
  {
   "metadata": {},
   "cell_type": "markdown",
   "source": [
    "## 6️⃣ Análise Exploratória\n",
    "\n",
    "Vamos visualizar como os gastos variam ao longo do tempo e por categoria."
   ],
   "id": "13ceccc6fe5fe79a"
  },
  {
   "metadata": {
    "ExecuteTime": {
     "end_time": "2025-07-03T21:48:03.941824Z",
     "start_time": "2025-07-03T21:48:03.441156Z"
    }
   },
   "cell_type": "code",
   "source": [
    "# Gastos totais por mês\n",
    "gastos_por_mes = df.groupby('Mes')['Valor (R$)'].sum().reset_index()\n",
    "\n",
    "plt.figure(figsize=(10,5))\n",
    "sns.lineplot(data=gastos_por_mes, x='Mes', y='Valor (R$)', marker='o')\n",
    "plt.title('Gastos Totais por Mês')"
   ],
   "id": "725dff1a9a5d1a23",
   "outputs": [
    {
     "data": {
      "text/plain": [
       "Text(0.5, 1.0, 'Gastos Totais por Mês')"
      ]
     },
     "execution_count": 66,
     "metadata": {},
     "output_type": "execute_result"
    },
    {
     "data": {
      "text/plain": [
       "<Figure size 1000x500 with 1 Axes>"
      ],
      "image/png": "[encoded data removed]"
     },
     "metadata": {},
     "output_type": "display_data"
    }
   ],
   "execution_count": 66
  },
  {
   "metadata": {
    "ExecuteTime": {
     "end_time": "2025-07-03T21:48:04.355213Z",
     "start_time": "2025-07-03T21:48:04.087483Z"
    }
   },
   "cell_type": "code",
   "source": [
    "# Gastos totais por categoria\n",
    "\n",
    "gastos_por_categoria = df.groupby('Categoria')['Valor (R$)'].sum().reset_index()\n",
    "plt.figure(figsize=(10,6))\n",
    "sns.boxplot(data=df, x='Categoria', y='Valor (R$)')\n",
    "plt.title('Distribuição de Gastos por Categoria')\n",
    "plt.xticks(rotation=45)\n",
    "plt.show()"
   ],
   "id": "4a056f9104957737",
   "outputs": [
    {
     "data": {
      "text/plain": [
       "<Figure size 1000x600 with 1 Axes>"
      ],
      "image/png": "[encoded data removed]"
     },
     "metadata": {},
     "output_type": "display_data"
    }
   ],
   "execution_count": 67
  },
  {
   "metadata": {},
   "cell_type": "markdown",
   "source": [
    "## 7️⃣ Exportação para Power BI\n",
    "\n",
    "Salvaremos um CSV para uso em Power BI."
   ],
   "id": "5eecdec70f7fcb9f"
  },
  {
   "metadata": {
    "ExecuteTime": {
     "end_time": "2025-07-03T21:48:04.424734Z",
     "start_time": "2025-07-03T21:48:04.417545Z"
    }
   },
   "cell_type": "code",
   "source": "df.to_csv(r'C:\\Users\\gabry\\Documents\\analise-de-despesas\\powerbi\\despesas_para_powerbi.csv', index=False)",
   "id": "dadd2c3e3fd5ffbe",
   "outputs": [],
   "execution_count": 68
  },
  {
   "metadata": {},
   "cell_type": "markdown",
   "source": [
    "## 8️⃣ Preparação para Machine Learning\n",
    "\n",
    "Exemplo: prever o gasto total do próximo mês."
   ],
   "id": "ec72152bffdc2d4b"
  },
  {
   "metadata": {
    "ExecuteTime": {
     "end_time": "2025-07-03T21:48:04.476235Z",
     "start_time": "2025-07-03T21:48:04.473039Z"
    }
   },
   "cell_type": "code",
   "source": "",
   "id": "bb07dce114362c14",
   "outputs": [],
   "execution_count": null
  },
  {
   "metadata": {
    "ExecuteTime": {
     "end_time": "2025-07-03T21:48:04.601471Z",
     "start_time": "2025-07-03T21:48:04.598277Z"
    }
   },
   "cell_type": "code",
   "source": "",
   "id": "1072563806921ee5",
   "outputs": [],
   "execution_count": null
  },
  {
   "metadata": {},
   "cell_type": "markdown",
   "source": [
    "## 9️⃣ Modelagem\n",
    "\n",
    "Usaremos uma regressão linear simples."
   ],
   "id": "82dc6f7b44530dcb"
  },
  {
   "metadata": {
    "ExecuteTime": {
     "end_time": "2025-07-03T21:48:04.637432Z",
     "start_time": "2025-07-03T21:48:04.634220Z"
    }
   },
   "cell_type": "code",
   "source": "",
   "id": "bb80a0b05e6bbb53",
   "outputs": [],
   "execution_count": null
  },
  {
   "metadata": {},
   "cell_type": "markdown",
   "source": "## 10️⃣ Avaliação do Modelo",
   "id": "9252901ba6f0875f"
  },
  {
   "metadata": {
    "ExecuteTime": {
     "end_time": "2025-07-03T21:48:04.729457Z",
     "start_time": "2025-07-03T21:48:04.726453Z"
    }
   },
   "cell_type": "code",
   "source": "",
   "id": "193a682c80bcde6d",
   "outputs": [],
   "execution_count": null
  },
  {
   "metadata": {},
   "cell_type": "markdown",
   "source": "## 11️⃣ Salvamento do Modelo",
   "id": "620ac77048d875d2"
  },
  {
   "metadata": {
    "ExecuteTime": {
     "end_time": "2025-07-03T21:48:04.792620Z",
     "start_time": "2025-07-03T21:48:04.788092Z"
    }
   },
   "cell_type": "code",
   "source": "",
   "id": "28fab70a2615351e",
   "outputs": [],
   "execution_count": null
  },
  {
   "metadata": {},
   "cell_type": "markdown",
   "source": [
    "## ✅ Conclusão\n",
    "\n",
    "Neste notebook, fizemos:\n",
    "\n",
    "- Carregamento e exploração de dados de despesas pessoais\n",
    "- Limpeza e preparação com pandas\n",
    "- Visualizações com seaborn e matplotlib\n",
    "- Exportação para Power BI\n",
    "- Modelagem preditiva simples com scikit-learn\n",
    "\n",
    "Este projeto é modular e pode ser facilmente expandido para:\n",
    "\n",
    "- Classificação automática de categorias\n",
    "- Previsão por categoria\n",
    "- Integração com Flask ou APIs\n",
    "- Dashboards mais ricos em Power BI\n",
    "\n",
    "---\n"
   ],
   "id": "9cd6425e141e0466"
  }
 ],
 "metadata": {
  "kernelspec": {
   "display_name": "Python 3",
   "language": "python",
   "name": "python3"
  },
  "language_info": {
   "codemirror_mode": {
    "name": "ipython",
    "version": 2
   },
   "file_extension": ".py",
   "mimetype": "text/x-python",
   "name": "python",
   "nbconvert_exporter": "python",
   "pygments_lexer": "ipython2",
   "version": "2.7.6"
  }
 },
 "nbformat": 4,
 "nbformat_minor": 5
}
